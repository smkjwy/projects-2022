{
 "cells": [
  {
   "cell_type": "code",
   "execution_count": 1,
   "id": "d6464468",
   "metadata": {},
   "outputs": [],
   "source": [
    "import json\n",
    "from matplotlib import pyplot as plt\n",
    "from collections import defaultdict\n",
    "from sklearn import linear_model\n",
    "from sklearn import metrics\n",
    "import sklearn\n",
    "import numpy as np\n",
    "import random\n",
    "import gzip\n",
    "import math"
   ]
  },
  {
   "cell_type": "code",
   "execution_count": 2,
   "id": "257c8ceb",
   "metadata": {},
   "outputs": [],
   "source": [
    "def assertFloat(x): # Checks that an answer is a float\n",
    "    assert type(float(x)) == float\n",
    "\n",
    "def assertFloatList(items, N):\n",
    "    assert len(items) == N\n",
    "    assert [type(float(x)) for x in items] == [float]*N"
   ]
  },
  {
   "cell_type": "code",
   "execution_count": 3,
   "id": "a93c4d46",
   "metadata": {},
   "outputs": [],
   "source": [
    "f = gzip.open('/home/jovyan/win_home/Downloads/young_adult_10000.json.gz')\n",
    "dataset = []\n",
    "for l in f:\n",
    "    dataset.append(json.loads(l))"
   ]
  },
  {
   "cell_type": "code",
   "execution_count": 4,
   "id": "5b2b8cad",
   "metadata": {
    "lines_to_next_cell": 2
   },
   "outputs": [
    {
     "data": {
      "text/plain": [
       "10000"
      ]
     },
     "execution_count": 4,
     "metadata": {},
     "output_type": "execute_result"
    }
   ],
   "source": [
    "len(dataset)"
   ]
  },
  {
   "cell_type": "code",
   "execution_count": 5,
   "id": "c2f82690",
   "metadata": {},
   "outputs": [
    {
     "data": {
      "text/plain": [
       "{'user_id': '8842281e1d1347389f2ab93d60773d4d',\n",
       " 'book_id': '2767052',\n",
       " 'review_id': '248c011811e945eca861b5c31a549291',\n",
       " 'rating': 5,\n",
       " 'review_text': \"I cracked and finally picked this up. Very enjoyable quick read - couldn't put it down - it was like crack. \\n I'm a bit bothered by the lack of backstory of how Panem and the Hunger Games come about. It is just kind of explained away in a few paragraphs and we are left to accept this very strange world where teenagers are pitted into an arena each year to kill each other? I was expecting it because I've seen Battle Royale, but I would have appreciated knowing more of the backstory of how the world could have come into such a odd state. \\n I suppose what makes a book like this interesting is thinking about the strategy of it all. The players are going to be statistically encouraged to band together because they will last longer that way, but by definition of course any partnership will be broken, and the drama of how that unfolds is always interesting and full of friendships broken and betrayal. Each character approached the game in their own way. Some banded together in larger coalitions, some were loners initially and banded together later. And some were just loners, like Foxface. A lot depended on your survival skill: could you find food and water on your own? Self-dependence is highly valued - and of course our hero was strong there. \\n All in all, a fun read, but I feel kind of dirty for having read it.\",\n",
       " 'date_added': 'Wed Jan 13 13:38:25 -0800 2010',\n",
       " 'date_updated': 'Wed Mar 22 11:46:36 -0700 2017',\n",
       " 'read_at': 'Sun Mar 25 00:00:00 -0700 2012',\n",
       " 'started_at': 'Fri Mar 23 00:00:00 -0700 2012',\n",
       " 'n_votes': 24,\n",
       " 'n_comments': 25}"
      ]
     },
     "execution_count": 5,
     "metadata": {},
     "output_type": "execute_result"
    }
   ],
   "source": [
    "dataset[0]\n"
   ]
  },
  {
   "cell_type": "markdown",
   "id": "ac4d4493-0123-48c5-861a-5393e9212c3c",
   "metadata": {},
   "source": [
    "## Regression"
   ]
  },
  {
   "cell_type": "code",
   "execution_count": 6,
   "id": "2a5e65be-4442-49af-a47a-bfa2e40309ae",
   "metadata": {},
   "outputs": [],
   "source": [
    "# Create a simple predictor estimating reivew rating from the number of exclamation mark in a review"
   ]
  },
  {
   "cell_type": "code",
   "execution_count": 9,
   "id": "50f295ba",
   "metadata": {},
   "outputs": [],
   "source": [
    "for d in dataset:\n",
    "    d['feature1'] = d['review_text'].count('!')\n",
    "\n",
    "def feature(datum):\n",
    "    feat = datum['feature1']\n",
    "    return [1] + [feat]"
   ]
  },
  {
   "cell_type": "code",
   "execution_count": 10,
   "id": "e411b976",
   "metadata": {},
   "outputs": [],
   "source": [
    "X = [feature(d) for d in dataset]\n",
    "Y = [d['rating'] for d in dataset]"
   ]
  },
  {
   "cell_type": "code",
   "execution_count": 11,
   "id": "81b95ae5",
   "metadata": {
    "lines_to_next_cell": 2
   },
   "outputs": [],
   "source": [
    "model = sklearn.linear_model.LinearRegression(fit_intercept=False)\n",
    "model.fit(X,Y)\n",
    "theta = model.coef_\n",
    "theta0, theta1 = theta"
   ]
  },
  {
   "cell_type": "code",
   "execution_count": 12,
   "id": "aae036b6",
   "metadata": {},
   "outputs": [
    {
     "data": {
      "text/plain": [
       "1.5231747404538247"
      ]
     },
     "execution_count": 12,
     "metadata": {},
     "output_type": "execute_result"
    }
   ],
   "source": [
    "y_pred = model.predict(X)\n",
    "sse = sum([x**2 for x in (Y - y_pred)])\n",
    "mse = sse/len(Y)\n",
    "mse"
   ]
  },
  {
   "cell_type": "code",
   "execution_count": 21,
   "id": "7ce8f11c",
   "metadata": {},
   "outputs": [
    {
     "data": {
      "text/plain": [
       "[3.6885330408320085, 0.0710901901995423, 1.5231747404538247]"
      ]
     },
     "execution_count": 21,
     "metadata": {},
     "output_type": "execute_result"
    }
   ],
   "source": [
    "[theta0, theta1, mse]\n"
   ]
  },
  {
   "cell_type": "code",
   "execution_count": 23,
   "id": "6f29bbd8-7e0e-4cd6-8189-5f36e183dd55",
   "metadata": {},
   "outputs": [],
   "source": [
    "# Add a second feature to the predictor, number of characters."
   ]
  },
  {
   "cell_type": "code",
   "execution_count": 34,
   "id": "342d8c76",
   "metadata": {},
   "outputs": [],
   "source": [
    "def feature(datum):\n",
    "    feat = [1]\n",
    "    feat.append(len(datum['review_text']))\n",
    "    feat.append(datum['feature1']) #feature1\n",
    "    return feat"
   ]
  },
  {
   "cell_type": "code",
   "execution_count": 35,
   "id": "8419de4b",
   "metadata": {
    "lines_to_next_cell": 2
   },
   "outputs": [],
   "source": [
    "X = [feature(d) for d in dataset]\n",
    "Y = [d['rating'] for d in dataset]"
   ]
  },
  {
   "cell_type": "code",
   "execution_count": 40,
   "id": "c6f08feb",
   "metadata": {},
   "outputs": [],
   "source": [
    "model = sklearn.linear_model.LinearRegression(fit_intercept=False)\n",
    "model.fit(X,Y)\n",
    "theta = model.coef_\n",
    "\n",
    "theta0, theta1, theta2 = theta"
   ]
  },
  {
   "cell_type": "code",
   "execution_count": 41,
   "id": "066df62b",
   "metadata": {},
   "outputs": [
    {
     "data": {
      "text/plain": [
       "1.521402924616585"
      ]
     },
     "execution_count": 41,
     "metadata": {},
     "output_type": "execute_result"
    }
   ],
   "source": [
    "y_pred = model.predict(X)\n",
    "sse = sum([x**2 for x in (Y - y_pred)])\n",
    "mse = sse/len(Y)\n",
    "mse"
   ]
  },
  {
   "cell_type": "code",
   "execution_count": 42,
   "id": "fc747d51",
   "metadata": {},
   "outputs": [
    {
     "data": {
      "text/plain": [
       "[3.7175128077971804,\n",
       " -4.1215065294879954e-05,\n",
       " 0.07527591733232598,\n",
       " 1.521402924616585]"
      ]
     },
     "execution_count": 42,
     "metadata": {},
     "output_type": "execute_result"
    }
   ],
   "source": [
    "[theta0, theta1, theta2, mse]\n"
   ]
  },
  {
   "cell_type": "code",
   "execution_count": 49,
   "id": "bf6a9d4c-90e9-4948-8dd8-e1a6d43af545",
   "metadata": {},
   "outputs": [],
   "source": [
    "# Train a model that fits the polynomial function below based on number of exclamation marks:\n",
    "\n",
    "# star rating ≃ θ0 + θ1 × [number of !] + θ2 × [number of !]^2 + θ3 × [number of !]^3 + θ4 x [number of !]^4 + θ5 x [number of !]^5"
   ]
  },
  {
   "cell_type": "code",
   "execution_count": 50,
   "id": "4d62d552",
   "metadata": {},
   "outputs": [],
   "source": [
    "def feature(datum, deg):\n",
    "    feat = [1]\n",
    "    for i in range(1, deg+1):\n",
    "        feat.append(datum['feature1']**i)\n",
    "    return feat"
   ]
  },
  {
   "cell_type": "code",
   "execution_count": 51,
   "id": "e015e877",
   "metadata": {},
   "outputs": [
    {
     "name": "stderr",
     "output_type": "stream",
     "text": [
      "/opt/conda/lib/python3.10/site-packages/sklearn/utils/validation.py:727: FutureWarning: np.matrix usage is deprecated in 1.0 and will raise a TypeError in 1.2. Please convert to a numpy array with np.asarray. For more information see: https://numpy.org/doc/stable/reference/generated/numpy.matrix.html\n",
      "  warnings.warn(\n",
      "/opt/conda/lib/python3.10/site-packages/sklearn/utils/validation.py:727: FutureWarning: np.matrix usage is deprecated in 1.0 and will raise a TypeError in 1.2. Please convert to a numpy array with np.asarray. For more information see: https://numpy.org/doc/stable/reference/generated/numpy.matrix.html\n",
      "  warnings.warn(\n",
      "/opt/conda/lib/python3.10/site-packages/sklearn/utils/validation.py:727: FutureWarning: np.matrix usage is deprecated in 1.0 and will raise a TypeError in 1.2. Please convert to a numpy array with np.asarray. For more information see: https://numpy.org/doc/stable/reference/generated/numpy.matrix.html\n",
      "  warnings.warn(\n",
      "/opt/conda/lib/python3.10/site-packages/sklearn/utils/validation.py:727: FutureWarning: np.matrix usage is deprecated in 1.0 and will raise a TypeError in 1.2. Please convert to a numpy array with np.asarray. For more information see: https://numpy.org/doc/stable/reference/generated/numpy.matrix.html\n",
      "  warnings.warn(\n",
      "/opt/conda/lib/python3.10/site-packages/sklearn/utils/validation.py:727: FutureWarning: np.matrix usage is deprecated in 1.0 and will raise a TypeError in 1.2. Please convert to a numpy array with np.asarray. For more information see: https://numpy.org/doc/stable/reference/generated/numpy.matrix.html\n",
      "  warnings.warn(\n",
      "/opt/conda/lib/python3.10/site-packages/sklearn/utils/validation.py:727: FutureWarning: np.matrix usage is deprecated in 1.0 and will raise a TypeError in 1.2. Please convert to a numpy array with np.asarray. For more information see: https://numpy.org/doc/stable/reference/generated/numpy.matrix.html\n",
      "  warnings.warn(\n",
      "/opt/conda/lib/python3.10/site-packages/sklearn/utils/validation.py:727: FutureWarning: np.matrix usage is deprecated in 1.0 and will raise a TypeError in 1.2. Please convert to a numpy array with np.asarray. For more information see: https://numpy.org/doc/stable/reference/generated/numpy.matrix.html\n",
      "  warnings.warn(\n",
      "/opt/conda/lib/python3.10/site-packages/sklearn/utils/validation.py:727: FutureWarning: np.matrix usage is deprecated in 1.0 and will raise a TypeError in 1.2. Please convert to a numpy array with np.asarray. For more information see: https://numpy.org/doc/stable/reference/generated/numpy.matrix.html\n",
      "  warnings.warn(\n",
      "/opt/conda/lib/python3.10/site-packages/sklearn/utils/validation.py:727: FutureWarning: np.matrix usage is deprecated in 1.0 and will raise a TypeError in 1.2. Please convert to a numpy array with np.asarray. For more information see: https://numpy.org/doc/stable/reference/generated/numpy.matrix.html\n",
      "  warnings.warn(\n",
      "/opt/conda/lib/python3.10/site-packages/sklearn/utils/validation.py:727: FutureWarning: np.matrix usage is deprecated in 1.0 and will raise a TypeError in 1.2. Please convert to a numpy array with np.asarray. For more information see: https://numpy.org/doc/stable/reference/generated/numpy.matrix.html\n",
      "  warnings.warn(\n"
     ]
    }
   ],
   "source": [
    "deg = 5\n",
    "xSet = []\n",
    "\n",
    "for i in range(1,deg+1):\n",
    "    xSet.append(np.matrix([feature(d,i) for d in dataset]))\n",
    "\n",
    "mses =[]\n",
    "\n",
    "for x in xSet:\n",
    "    model = sklearn.linear_model.LinearRegression(fit_intercept=False)\n",
    "    model.fit(x, Y)\n",
    "    theta = model.coef_\n",
    "    y_pred = model.predict(x)\n",
    "    sse = sum([x**2 for x in (Y - y_pred)])\n",
    "    mses.append(float(sse/len(Y)))\n",
    "    \n",
    "    \n"
   ]
  },
  {
   "cell_type": "code",
   "execution_count": 48,
   "id": "b0c12e7e",
   "metadata": {},
   "outputs": [
    {
     "data": {
      "text/plain": [
       "[1.5231747404538247,\n",
       " 1.5046686106250973,\n",
       " 1.49668455151802,\n",
       " 1.4904477302230097,\n",
       " 1.4896106953960346]"
      ]
     },
     "execution_count": 48,
     "metadata": {},
     "output_type": "execute_result"
    }
   ],
   "source": [
    "mses\n"
   ]
  }
 ],
 "metadata": {
  "kernelspec": {
   "display_name": "Python 3 (ipykernel)",
   "language": "python",
   "name": "python3"
  },
  "language_info": {
   "codemirror_mode": {
    "name": "ipython",
    "version": 3
   },
   "file_extension": ".py",
   "mimetype": "text/x-python",
   "name": "python",
   "nbconvert_exporter": "python",
   "pygments_lexer": "ipython3",
   "version": "3.10.5"
  }
 },
 "nbformat": 4,
 "nbformat_minor": 5
}
