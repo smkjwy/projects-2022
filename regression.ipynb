{
 "cells": [
  {
   "cell_type": "code",
   "execution_count": 1,
   "id": "d6464468",
   "metadata": {},
   "outputs": [],
   "source": [
    "import json\n",
    "from matplotlib import pyplot as plt\n",
    "from collections import defaultdict\n",
    "from sklearn import linear_model\n",
    "from sklearn import metrics\n",
    "import sklearn\n",
    "import numpy as np\n",
    "import random\n",
    "import gzip\n",
    "import math"
   ]
  },
  {
   "cell_type": "code",
   "execution_count": 2,
   "id": "257c8ceb",
   "metadata": {},
   "outputs": [],
   "source": [
    "def assertFloat(x): # Checks that an answer is a float\n",
    "    assert type(float(x)) == float\n",
    "\n",
    "def assertFloatList(items, N):\n",
    "    assert len(items) == N\n",
    "    assert [type(float(x)) for x in items] == [float]*N"
   ]
  },
  {
   "cell_type": "code",
   "execution_count": 3,
   "id": "a93c4d46",
   "metadata": {},
   "outputs": [],
   "source": [
    "f = gzip.open('/home/jovyan/win_home/Downloads/young_adult_10000.json.gz')\n",
    "dataset = []\n",
    "for l in f:\n",
    "    dataset.append(json.loads(l))"
   ]
  },
  {
   "cell_type": "code",
   "execution_count": 4,
   "id": "5b2b8cad",
   "metadata": {
    "lines_to_next_cell": 2
   },
   "outputs": [
    {
     "data": {
      "text/plain": [
       "10000"
      ]
     },
     "execution_count": 4,
     "metadata": {},
     "output_type": "execute_result"
    }
   ],
   "source": [
    "len(dataset)"
   ]
  },
  {
   "cell_type": "code",
   "execution_count": 5,
   "id": "c2f82690",
   "metadata": {},
   "outputs": [
    {
     "data": {
      "text/plain": [
       "{'user_id': '8842281e1d1347389f2ab93d60773d4d',\n",
       " 'book_id': '2767052',\n",
       " 'review_id': '248c011811e945eca861b5c31a549291',\n",
       " 'rating': 5,\n",
       " 'review_text': \"I cracked and finally picked this up. Very enjoyable quick read - couldn't put it down - it was like crack. \\n I'm a bit bothered by the lack of backstory of how Panem and the Hunger Games come about. It is just kind of explained away in a few paragraphs and we are left to accept this very strange world where teenagers are pitted into an arena each year to kill each other? I was expecting it because I've seen Battle Royale, but I would have appreciated knowing more of the backstory of how the world could have come into such a odd state. \\n I suppose what makes a book like this interesting is thinking about the strategy of it all. The players are going to be statistically encouraged to band together because they will last longer that way, but by definition of course any partnership will be broken, and the drama of how that unfolds is always interesting and full of friendships broken and betrayal. Each character approached the game in their own way. Some banded together in larger coalitions, some were loners initially and banded together later. And some were just loners, like Foxface. A lot depended on your survival skill: could you find food and water on your own? Self-dependence is highly valued - and of course our hero was strong there. \\n All in all, a fun read, but I feel kind of dirty for having read it.\",\n",
       " 'date_added': 'Wed Jan 13 13:38:25 -0800 2010',\n",
       " 'date_updated': 'Wed Mar 22 11:46:36 -0700 2017',\n",
       " 'read_at': 'Sun Mar 25 00:00:00 -0700 2012',\n",
       " 'started_at': 'Fri Mar 23 00:00:00 -0700 2012',\n",
       " 'n_votes': 24,\n",
       " 'n_comments': 25}"
      ]
     },
     "execution_count": 5,
     "metadata": {},
     "output_type": "execute_result"
    }
   ],
   "source": [
    "dataset[0]\n"
   ]
  },
  {
   "cell_type": "markdown",
   "id": "ac4d4493-0123-48c5-861a-5393e9212c3c",
   "metadata": {},
   "source": [
    "## Regression"
   ]
  },
  {
   "cell_type": "code",
   "execution_count": 6,
   "id": "2a5e65be-4442-49af-a47a-bfa2e40309ae",
   "metadata": {},
   "outputs": [],
   "source": [
    "# Create a simple predictor estimating reivew rating from the number of exclamation mark in a review"
   ]
  },
  {
   "cell_type": "code",
   "execution_count": 9,
   "id": "50f295ba",
   "metadata": {},
   "outputs": [],
   "source": [
    "for d in dataset:\n",
    "    d['feature1'] = d['review_text'].count('!')\n",
    "\n",
    "def feature(datum):\n",
    "    feat = datum['feature1']\n",
    "    return [1] + [feat]"
   ]
  },
  {
   "cell_type": "code",
   "execution_count": 10,
   "id": "e411b976",
   "metadata": {},
   "outputs": [],
   "source": [
    "X = [feature(d) for d in dataset]\n",
    "Y = [d['rating'] for d in dataset]"
   ]
  },
  {
   "cell_type": "code",
   "execution_count": 11,
   "id": "81b95ae5",
   "metadata": {
    "lines_to_next_cell": 2
   },
   "outputs": [],
   "source": [
    "model = sklearn.linear_model.LinearRegression(fit_intercept=False)\n",
    "model.fit(X,Y)\n",
    "theta = model.coef_\n",
    "theta0, theta1 = theta"
   ]
  },
  {
   "cell_type": "code",
   "execution_count": 12,
   "id": "aae036b6",
   "metadata": {},
   "outputs": [
    {
     "data": {
      "text/plain": [
       "1.5231747404538247"
      ]
     },
     "execution_count": 12,
     "metadata": {},
     "output_type": "execute_result"
    }
   ],
   "source": [
    "y_pred = model.predict(X)\n",
    "sse = sum([x**2 for x in (Y - y_pred)])\n",
    "mse = sse/len(Y)\n",
    "mse"
   ]
  },
  {
   "cell_type": "code",
   "execution_count": 21,
   "id": "7ce8f11c",
   "metadata": {},
   "outputs": [
    {
     "data": {
      "text/plain": [
       "[3.6885330408320085, 0.0710901901995423, 1.5231747404538247]"
      ]
     },
     "execution_count": 21,
     "metadata": {},
     "output_type": "execute_result"
    }
   ],
   "source": [
    "[theta0, theta1, mse]\n"
   ]
  },
  {
   "cell_type": "code",
   "execution_count": 23,
   "id": "6f29bbd8-7e0e-4cd6-8189-5f36e183dd55",
   "metadata": {},
   "outputs": [],
   "source": [
    "# Add a second feature to the predictor, number of characters."
   ]
  },
  {
   "cell_type": "code",
   "execution_count": 34,
   "id": "342d8c76",
   "metadata": {},
   "outputs": [],
   "source": [
    "def feature(datum):\n",
    "    feat = [1]\n",
    "    feat.append(len(datum['review_text']))\n",
    "    feat.append(datum['feature1']) #feature1\n",
    "    return feat"
   ]
  },
  {
   "cell_type": "code",
   "execution_count": 35,
   "id": "8419de4b",
   "metadata": {
    "lines_to_next_cell": 2
   },
   "outputs": [],
   "source": [
    "X = [feature(d) for d in dataset]\n",
    "Y = [d['rating'] for d in dataset]"
   ]
  },
  {
   "cell_type": "code",
   "execution_count": 40,
   "id": "c6f08feb",
   "metadata": {},
   "outputs": [],
   "source": [
    "model = sklearn.linear_model.LinearRegression(fit_intercept=False)\n",
    "model.fit(X,Y)\n",
    "theta = model.coef_\n",
    "\n",
    "theta0, theta1, theta2 = theta"
   ]
  },
  {
   "cell_type": "code",
   "execution_count": 41,
   "id": "066df62b",
   "metadata": {},
   "outputs": [
    {
     "data": {
      "text/plain": [
       "1.521402924616585"
      ]
     },
     "execution_count": 41,
     "metadata": {},
     "output_type": "execute_result"
    }
   ],
   "source": [
    "y_pred = model.predict(X)\n",
    "sse = sum([x**2 for x in (Y - y_pred)])\n",
    "mse = sse/len(Y)\n",
    "mse"
   ]
  },
  {
   "cell_type": "code",
   "execution_count": 42,
   "id": "fc747d51",
   "metadata": {},
   "outputs": [
    {
     "data": {
      "text/plain": [
       "[3.7175128077971804,\n",
       " -4.1215065294879954e-05,\n",
       " 0.07527591733232598,\n",
       " 1.521402924616585]"
      ]
     },
     "execution_count": 42,
     "metadata": {},
     "output_type": "execute_result"
    }
   ],
   "source": [
    "[theta0, theta1, theta2, mse]\n"
   ]
  },
  {
   "cell_type": "code",
   "execution_count": 49,
   "id": "bf6a9d4c-90e9-4948-8dd8-e1a6d43af545",
   "metadata": {},
   "outputs": [],
   "source": [
    "# Train a model that fits the polynomial function below based on number of exclamation marks:\n",
    "\n",
    "# star rating ≃ θ0 + θ1 × [number of !] + θ2 × [number of !]^2 + θ3 × [number of !]^3 + θ4 x [number of !]^4 + θ5 x [number of !]^5"
   ]
  },
  {
   "cell_type": "code",
   "execution_count": 50,
   "id": "4d62d552",
   "metadata": {},
   "outputs": [],
   "source": [
    "def feature(datum, deg):\n",
    "    feat = [1]\n",
    "    for i in range(1, deg+1):\n",
    "        feat.append(datum['feature1']**i)\n",
    "    return feat"
   ]
  },
  {
   "cell_type": "code",
   "execution_count": 51,
   "id": "e015e877",
   "metadata": {},
   "outputs": [
    {
     "name": "stderr",
     "output_type": "stream",
     "text": [
      "/opt/conda/lib/python3.10/site-packages/sklearn/utils/validation.py:727: FutureWarning: np.matrix usage is deprecated in 1.0 and will raise a TypeError in 1.2. Please convert to a numpy array with np.asarray. For more information see: https://numpy.org/doc/stable/reference/generated/numpy.matrix.html\n",
      "  warnings.warn(\n",
      "/opt/conda/lib/python3.10/site-packages/sklearn/utils/validation.py:727: FutureWarning: np.matrix usage is deprecated in 1.0 and will raise a TypeError in 1.2. Please convert to a numpy array with np.asarray. For more information see: https://numpy.org/doc/stable/reference/generated/numpy.matrix.html\n",
      "  warnings.warn(\n",
      "/opt/conda/lib/python3.10/site-packages/sklearn/utils/validation.py:727: FutureWarning: np.matrix usage is deprecated in 1.0 and will raise a TypeError in 1.2. Please convert to a numpy array with np.asarray. For more information see: https://numpy.org/doc/stable/reference/generated/numpy.matrix.html\n",
      "  warnings.warn(\n",
      "/opt/conda/lib/python3.10/site-packages/sklearn/utils/validation.py:727: FutureWarning: np.matrix usage is deprecated in 1.0 and will raise a TypeError in 1.2. Please convert to a numpy array with np.asarray. For more information see: https://numpy.org/doc/stable/reference/generated/numpy.matrix.html\n",
      "  warnings.warn(\n",
      "/opt/conda/lib/python3.10/site-packages/sklearn/utils/validation.py:727: FutureWarning: np.matrix usage is deprecated in 1.0 and will raise a TypeError in 1.2. Please convert to a numpy array with np.asarray. For more information see: https://numpy.org/doc/stable/reference/generated/numpy.matrix.html\n",
      "  warnings.warn(\n",
      "/opt/conda/lib/python3.10/site-packages/sklearn/utils/validation.py:727: FutureWarning: np.matrix usage is deprecated in 1.0 and will raise a TypeError in 1.2. Please convert to a numpy array with np.asarray. For more information see: https://numpy.org/doc/stable/reference/generated/numpy.matrix.html\n",
      "  warnings.warn(\n",
      "/opt/conda/lib/python3.10/site-packages/sklearn/utils/validation.py:727: FutureWarning: np.matrix usage is deprecated in 1.0 and will raise a TypeError in 1.2. Please convert to a numpy array with np.asarray. For more information see: https://numpy.org/doc/stable/reference/generated/numpy.matrix.html\n",
      "  warnings.warn(\n",
      "/opt/conda/lib/python3.10/site-packages/sklearn/utils/validation.py:727: FutureWarning: np.matrix usage is deprecated in 1.0 and will raise a TypeError in 1.2. Please convert to a numpy array with np.asarray. For more information see: https://numpy.org/doc/stable/reference/generated/numpy.matrix.html\n",
      "  warnings.warn(\n",
      "/opt/conda/lib/python3.10/site-packages/sklearn/utils/validation.py:727: FutureWarning: np.matrix usage is deprecated in 1.0 and will raise a TypeError in 1.2. Please convert to a numpy array with np.asarray. For more information see: https://numpy.org/doc/stable/reference/generated/numpy.matrix.html\n",
      "  warnings.warn(\n",
      "/opt/conda/lib/python3.10/site-packages/sklearn/utils/validation.py:727: FutureWarning: np.matrix usage is deprecated in 1.0 and will raise a TypeError in 1.2. Please convert to a numpy array with np.asarray. For more information see: https://numpy.org/doc/stable/reference/generated/numpy.matrix.html\n",
      "  warnings.warn(\n"
     ]
    }
   ],
   "source": [
    "deg = 5\n",
    "xSet = []\n",
    "\n",
    "for i in range(1,deg+1):\n",
    "    xSet.append(np.matrix([feature(d,i) for d in dataset]))\n",
    "\n",
    "mses =[]\n",
    "\n",
    "for x in xSet:\n",
    "    model = sklearn.linear_model.LinearRegression(fit_intercept=False)\n",
    "    model.fit(x, Y)\n",
    "    theta = model.coef_\n",
    "    y_pred = model.predict(x)\n",
    "    sse = sum([x**2 for x in (Y - y_pred)])\n",
    "    mses.append(float(sse/len(Y)))\n",
    "    \n",
    "    \n"
   ]
  },
  {
   "cell_type": "code",
   "execution_count": 48,
   "id": "b0c12e7e",
   "metadata": {},
   "outputs": [
    {
     "data": {
      "text/plain": [
       "[1.5231747404538247,\n",
       " 1.5046686106250973,\n",
       " 1.49668455151802,\n",
       " 1.4904477302230097,\n",
       " 1.4896106953960346]"
      ]
     },
     "execution_count": 48,
     "metadata": {},
     "output_type": "execute_result"
    }
   ],
   "source": [
    "mses\n"
   ]
  },
  {
   "cell_type": "code",
   "execution_count": null,
   "id": "45b232c6",
   "metadata": {},
   "outputs": [],
   "source": []
  },
  {
   "cell_type": "code",
   "execution_count": null,
   "id": "b9e0dc48",
   "metadata": {},
   "outputs": [],
   "source": [
    "### Question 4"
   ]
  },
  {
   "cell_type": "code",
   "execution_count": null,
   "id": "5e86b2f9",
   "metadata": {},
   "outputs": [],
   "source": [
    "half = int(len(dataset)*0.5)\n",
    "\n",
    "train_data = dataset[:half]\n",
    "test_data = dataset[half:]"
   ]
  },
  {
   "cell_type": "code",
   "execution_count": null,
   "id": "13ae220d",
   "metadata": {},
   "outputs": [],
   "source": [
    "Y2 = [d['rating'] for d in test_data]\n",
    "\n",
    "deg = 5\n",
    "xSet2 = []\n",
    "\n",
    "for i in range(1,deg+1):\n",
    "    xSet2.append(np.matrix([feature(d,i) for d in test_data]))\n",
    "\n",
    "mses2 =[]\n",
    "\n",
    "for x in xSet2:\n",
    "    model = sklearn.linear_model.LinearRegression(fit_intercept=False)\n",
    "    model.fit(x, Y2)\n",
    "    theta = model.coef_\n",
    "    y_pred = model.predict(x)\n",
    "    sse = sum([x**2 for x in (Y2 - y_pred)])\n",
    "    mses2.append(float(sse/len(Y2)))\n",
    "\n",
    "mses2"
   ]
  },
  {
   "cell_type": "code",
   "execution_count": null,
   "id": "8861bac1",
   "metadata": {},
   "outputs": [],
   "source": [
    "answers['Q4'] = mses2"
   ]
  },
  {
   "cell_type": "code",
   "execution_count": null,
   "id": "27f07aa5",
   "metadata": {},
   "outputs": [],
   "source": [
    "assertFloatList(answers['Q4'], 5)"
   ]
  },
  {
   "cell_type": "markdown",
   "id": "740c5f76",
   "metadata": {},
   "source": [
    "## Question 5"
   ]
  },
  {
   "cell_type": "code",
   "execution_count": null,
   "id": "5f60c2e3",
   "metadata": {},
   "outputs": [],
   "source": [
    "xSet2[4]"
   ]
  },
  {
   "cell_type": "code",
   "execution_count": null,
   "id": "7dd3cb48",
   "metadata": {},
   "outputs": [],
   "source": [
    "#report MAE of your predictor on the test set from the previous question\n",
    "\n",
    "from sklearn.metrics import mean_absolute_error as mae\n",
    "\n",
    "x2= xSet2[4]\n",
    "\n",
    "y_pred = model.predict(x2)\n",
    "\n",
    "\n",
    "mae = mae(Y2, y_pred)\n",
    "mae"
   ]
  },
  {
   "cell_type": "code",
   "execution_count": null,
   "id": "138295e9",
   "metadata": {
    "tags": []
   },
   "outputs": [],
   "source": []
  },
  {
   "cell_type": "code",
   "execution_count": null,
   "id": "4caee3cd",
   "metadata": {},
   "outputs": [],
   "source": [
    "answers['Q5'] = mae\n",
    "answers['Q5']"
   ]
  },
  {
   "cell_type": "code",
   "execution_count": null,
   "id": "290cad8a",
   "metadata": {},
   "outputs": [],
   "source": [
    "assertFloat(answers['Q5'])"
   ]
  },
  {
   "cell_type": "markdown",
   "id": "0a2cdff2",
   "metadata": {},
   "source": [
    "------------------"
   ]
  },
  {
   "cell_type": "markdown",
   "id": "27117818",
   "metadata": {},
   "source": [
    "## Question 6"
   ]
  },
  {
   "cell_type": "code",
   "execution_count": null,
   "id": "3f899240",
   "metadata": {},
   "outputs": [],
   "source": [
    "f = open('/home/jovyan/win_home/Downloads/beer_50000.json')\n",
    "dataset = []\n",
    "for l in f:\n",
    "    if 'user/gender' in l:\n",
    "        dataset.append(eval(l))"
   ]
  },
  {
   "cell_type": "code",
   "execution_count": null,
   "id": "60c5a4d1",
   "metadata": {},
   "outputs": [],
   "source": [
    "len(dataset)"
   ]
  },
  {
   "cell_type": "code",
   "execution_count": null,
   "id": "2b272cb9",
   "metadata": {},
   "outputs": [],
   "source": [
    "dataset[0]"
   ]
  },
  {
   "cell_type": "code",
   "execution_count": null,
   "id": "66514999",
   "metadata": {},
   "outputs": [],
   "source": [
    "for d in dataset:\n",
    "    d['feature1'] = d['review/text'].count('!')"
   ]
  },
  {
   "cell_type": "code",
   "execution_count": null,
   "id": "77dd891b",
   "metadata": {},
   "outputs": [],
   "source": [
    "def feature(datum):\n",
    "    feat = datum['feature1']\n",
    "    return [1] + [feat]"
   ]
  },
  {
   "cell_type": "code",
   "execution_count": null,
   "id": "d87e364d",
   "metadata": {
    "lines_to_next_cell": 2
   },
   "outputs": [],
   "source": [
    "X = [feature(d) for d in dataset]\n",
    "y = [d['user/gender'] == 'Female' for d in dataset]\n",
    "y_class = [(gender == True) for gender in y]"
   ]
  },
  {
   "cell_type": "markdown",
   "id": "51c1e4db",
   "metadata": {},
   "source": [
    "Model"
   ]
  },
  {
   "cell_type": "code",
   "execution_count": null,
   "id": "c7cb9111",
   "metadata": {},
   "outputs": [],
   "source": [
    "mod = sklearn.linear_model.LogisticRegression(fit_intercept=False)\n",
    "mod.fit(X,y)"
   ]
  },
  {
   "cell_type": "code",
   "execution_count": null,
   "id": "d167f7a0",
   "metadata": {},
   "outputs": [],
   "source": [
    "prediction = mod.predict(X)"
   ]
  },
  {
   "cell_type": "code",
   "execution_count": null,
   "id": "665f3077",
   "metadata": {},
   "outputs": [],
   "source": [
    "correct = prediction == y_class"
   ]
  },
  {
   "cell_type": "code",
   "execution_count": null,
   "id": "7a8e131e",
   "metadata": {},
   "outputs": [],
   "source": [
    "TP = sum([(p and l) for (p,l) in zip(prediction, y)])\n",
    "FP = sum([(p and not l) for (p,l) in zip(prediction, y)])\n",
    "TN = sum([(not p and not l) for (p,l) in zip(prediction, y)])\n",
    "FN = sum([(not p and l) for (p,l) in zip(prediction, y)])"
   ]
  },
  {
   "cell_type": "code",
   "execution_count": null,
   "id": "31318167",
   "metadata": {},
   "outputs": [],
   "source": [
    "TPR = TP / (TP + FN)\n",
    "TNR = TN / (TN + FP)\n",
    "BER = 1 - 1/2 * (TPR + TNR)\n",
    "BER"
   ]
  },
  {
   "cell_type": "code",
   "execution_count": null,
   "id": "95eb35a5",
   "metadata": {},
   "outputs": [],
   "source": [
    "answers['Q6'] = [TP, TN, FP, FN, BER]\n",
    "answers['Q6']"
   ]
  },
  {
   "cell_type": "code",
   "execution_count": null,
   "id": "f14dfc31",
   "metadata": {},
   "outputs": [],
   "source": [
    "assertFloatList(answers['Q6'], 5)"
   ]
  },
  {
   "cell_type": "code",
   "execution_count": null,
   "id": "bb91f18c",
   "metadata": {},
   "outputs": [],
   "source": [
    "### Question 7"
   ]
  },
  {
   "cell_type": "code",
   "execution_count": null,
   "id": "a11c9392",
   "metadata": {},
   "outputs": [],
   "source": [
    "mod2 = sklearn.linear_model.LogisticRegression(class_weight = 'balanced')\n",
    "mod2.fit(X,y)"
   ]
  },
  {
   "cell_type": "code",
   "execution_count": null,
   "id": "038e49a1",
   "metadata": {},
   "outputs": [],
   "source": [
    "prediction = mod2.predict(X)"
   ]
  },
  {
   "cell_type": "code",
   "execution_count": null,
   "id": "e6bb9285",
   "metadata": {},
   "outputs": [],
   "source": [
    "correct = prediction == y_class"
   ]
  },
  {
   "cell_type": "code",
   "execution_count": null,
   "id": "da7989e2",
   "metadata": {},
   "outputs": [],
   "source": [
    "TP = sum([(p and l) for (p,l) in zip(prediction, y)])\n",
    "FP = sum([(p and not l) for (p,l) in zip(prediction, y)])\n",
    "TN = sum([(not p and not l) for (p,l) in zip(prediction, y)])\n",
    "FN = sum([(not p and l) for (p,l) in zip(prediction, y)])"
   ]
  },
  {
   "cell_type": "code",
   "execution_count": null,
   "id": "fd4c2c7a",
   "metadata": {},
   "outputs": [],
   "source": [
    "TPR = TP / (TP + FN)\n",
    "TNR = TN / (TN + FP)\n",
    "BER = 1 - 1/2 * (TPR + TNR)\n",
    "BER"
   ]
  },
  {
   "cell_type": "code",
   "execution_count": null,
   "id": "453434b1",
   "metadata": {},
   "outputs": [],
   "source": [
    "answers[\"Q7\"] = [TP, TN, FP, FN, BER]\n",
    "answers[\"Q7\"]"
   ]
  },
  {
   "cell_type": "code",
   "execution_count": null,
   "id": "d5c0920b",
   "metadata": {},
   "outputs": [],
   "source": [
    "assertFloatList(answers['Q7'], 5)"
   ]
  },
  {
   "cell_type": "code",
   "execution_count": null,
   "id": "6e2e356f",
   "metadata": {},
   "outputs": [],
   "source": [
    "### Question 8"
   ]
  },
  {
   "cell_type": "code",
   "execution_count": null,
   "id": "9e9ecd39",
   "metadata": {},
   "outputs": [],
   "source": [
    "precision = TP/(TP+FP)\n",
    "recall = TP/(TP+FN)\n",
    "print(precision, recall)\n",
    "\n",
    "F1 = 2*(precision*recall)/(precision+recall)\n",
    "print(F1)"
   ]
  },
  {
   "cell_type": "code",
   "execution_count": null,
   "id": "cdce611b",
   "metadata": {},
   "outputs": [],
   "source": [
    "confidences = mod2.decision_function(X)\n",
    "confidences"
   ]
  },
  {
   "cell_type": "code",
   "execution_count": null,
   "id": "b455567b",
   "metadata": {},
   "outputs": [],
   "source": [
    "confidencesAndLabels = list(zip(confidences,y_class))"
   ]
  },
  {
   "cell_type": "code",
   "execution_count": null,
   "id": "1ebcd479",
   "metadata": {},
   "outputs": [],
   "source": [
    "labelsRankedByConfidence = [z[1] for z in confidencesAndLabels]"
   ]
  },
  {
   "cell_type": "code",
   "execution_count": null,
   "id": "7dc55edf",
   "metadata": {},
   "outputs": [],
   "source": [
    "def precisionAtK(K, y_sorted):\n",
    "    return sum(y_sorted[:K]) / K"
   ]
  },
  {
   "cell_type": "code",
   "execution_count": null,
   "id": "ba5f576e",
   "metadata": {},
   "outputs": [],
   "source": [
    "K = [1,10,100,1000,10000]\n",
    "\n",
    "precisionList = []\n",
    "\n",
    "for k in K:\n",
    "    precisionList.append(precisionAtK(k,labelsRankedByConfidence))\n",
    "                         \n",
    "precisionList"
   ]
  },
  {
   "cell_type": "code",
   "execution_count": null,
   "id": "f96751dd",
   "metadata": {},
   "outputs": [],
   "source": [
    "answers['Q8'] = precisionList"
   ]
  },
  {
   "cell_type": "code",
   "execution_count": null,
   "id": "880cc282",
   "metadata": {},
   "outputs": [],
   "source": [
    "assertFloatList(answers['Q8'], 5) #List of five floats"
   ]
  },
  {
   "cell_type": "code",
   "execution_count": null,
   "id": "9272ea39",
   "metadata": {},
   "outputs": [],
   "source": [
    "f = open(\"answers_hw1.txt\", 'w') # Write your answers to a file\n",
    "f.write(str(answers) + '\\n')\n",
    "f.close()"
   ]
  },
  {
   "cell_type": "code",
   "execution_count": null,
   "id": "983a3192",
   "metadata": {},
   "outputs": [],
   "source": []
  },
  {
   "cell_type": "code",
   "execution_count": null,
   "id": "bccd1a86",
   "metadata": {},
   "outputs": [],
   "source": []
  }
 ],
 "metadata": {
  "kernelspec": {
   "display_name": "Python 3 (ipykernel)",
   "language": "python",
   "name": "python3"
  },
  "language_info": {
   "codemirror_mode": {
    "name": "ipython",
    "version": 3
   },
   "file_extension": ".py",
   "mimetype": "text/x-python",
   "name": "python",
   "nbconvert_exporter": "python",
   "pygments_lexer": "ipython3",
   "version": "3.10.5"
  }
 },
 "nbformat": 4,
 "nbformat_minor": 5
}
